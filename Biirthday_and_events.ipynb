{
  "nbformat": 4,
  "nbformat_minor": 0,
  "metadata": {
    "colab": {
      "provenance": []
    },
    "kernelspec": {
      "name": "python3",
      "display_name": "Python 3"
    },
    "language_info": {
      "name": "python"
    }
  },
  "cells": [
    {
      "cell_type": "code",
      "execution_count": 64,
      "metadata": {
        "colab": {
          "base_uri": "https://localhost:8080/",
          "height": 253
        },
        "id": "2D9HsCuA7hq9",
        "outputId": "69dc6a97-0c35-40a7-aba0-b00ad6d7f9cd"
      },
      "outputs": [
        {
          "output_type": "error",
          "ename": "TypeError",
          "evalue": "ignored",
          "traceback": [
            "\u001b[0;31m---------------------------------------------------------------------------\u001b[0m",
            "\u001b[0;31mTypeError\u001b[0m                                 Traceback (most recent call last)",
            "\u001b[0;32m<ipython-input-64-1d77e91c1b46>\u001b[0m in \u001b[0;36m<cell line: 26>\u001b[0;34m()\u001b[0m\n\u001b[1;32m     27\u001b[0m     \u001b[0mfile\u001b[0m\u001b[0;34m.\u001b[0m\u001b[0mwrite\u001b[0m\u001b[0;34m(\u001b[0m\u001b[0;34m\"Common Events are:\\n\"\u001b[0m\u001b[0;34m)\u001b[0m\u001b[0;34m\u001b[0m\u001b[0;34m\u001b[0m\u001b[0m\n\u001b[1;32m     28\u001b[0m     \u001b[0;32mfor\u001b[0m \u001b[0mevent\u001b[0m \u001b[0;32min\u001b[0m \u001b[0melements\u001b[0m\u001b[0;34m:\u001b[0m\u001b[0;34m\u001b[0m\u001b[0;34m\u001b[0m\u001b[0m\n\u001b[0;32m---> 29\u001b[0;31m         \u001b[0mfile\u001b[0m\u001b[0;34m.\u001b[0m\u001b[0mwrite\u001b[0m\u001b[0;34m(\u001b[0m\u001b[0mevent\u001b[0m \u001b[0;34m+\u001b[0m \u001b[0;34m\"\\n\"\u001b[0m\u001b[0;34m)\u001b[0m\u001b[0;34m\u001b[0m\u001b[0;34m\u001b[0m\u001b[0m\n\u001b[0m\u001b[1;32m     30\u001b[0m \u001b[0;34m\u001b[0m\u001b[0m\n\u001b[1;32m     31\u001b[0m \u001b[0murl\u001b[0m \u001b[0;34m=\u001b[0m \u001b[0;34m\"https://www.timeanddate.com/on-this-day/september/18\"\u001b[0m\u001b[0;34m\u001b[0m\u001b[0;34m\u001b[0m\u001b[0m\n",
            "\u001b[0;31mTypeError\u001b[0m: unsupported operand type(s) for +: 'Tag' and 'str'"
          ]
        }
      ],
      "source": [
        "# 9/18/2023\n",
        "# CSC461 – Assignment1 – Web Scraping\n",
        "# Malik Ashas Abbas\n",
        "# fa21-bse-120\n",
        "# Webscraping IDMB website for Movie names and Ratings\n",
        "\n",
        "import requests\n",
        "import pandas as pd\n",
        "from bs4 import BeautifulSoup\n",
        "import time\n",
        "from google.colab import files\n",
        "\n",
        "\n",
        "headers = {\n",
        "    'User-Agent': 'Mozilla/5.0 (Windows NT 10.0; Win64; x64) AppleWebKit/537.36 (KHTML, like Gecko) Chrome/58.0.3029.110 Safari/537.36'\n",
        "}\n",
        "\n",
        "url =\"https://www.britannica.com/on-this-day/September-11\"\n",
        "r = requests.get(url, headers=headers)\n",
        "soup = BeautifulSoup(r.content, 'html.parser')\n",
        "elements = soup.find_all(class_=\"featured-event-card card\")\n",
        "#h3 = soup.find(attrs={\"class\": \"otd-life__title\"})\n",
        "for element in elements:\n",
        "    print(element.text)\n",
        "\n",
        "\n",
        "\n",
        "url = \"https://www.timeanddate.com/on-this-day/september/18\"\n",
        "\n",
        "r = requests.get(url, headers=headers)\n",
        "soup = BeautifulSoup(r.content, 'html.parser')\n",
        "# Find the list of birthdays\n",
        "ul_element = soup.find(class_=\"list--big\")\n",
        "list_items = ul_element.find_all('li')\n",
        "\n",
        "# Extract the names from the list items\n",
        "for item in list_items:\n",
        "    Birthdays.append(item.text.strip())\n",
        "\n",
        "# Print the list of birthdays\n",
        "print(\"Common birthdays are:\")\n",
        "for birthday in Birthdays:\n",
        "    print(birthday)\n",
        "\n",
        "with open(\"birthday_events.txt\", \"w\", encoding=\"utf-8\") as file:\n",
        "    file.write(\"Common birthdays are:\\n\")\n",
        "    for birthday in Birthdays:\n",
        "        file.write(birthday + \"\\n\")\n",
        "\n",
        "from google.colab import files\n",
        "files.download(\"birthday_events.txt\")\n",
        "\n"
      ]
    },
    {
      "cell_type": "code",
      "source": [],
      "metadata": {
        "id": "vTfgLtBwQLTG"
      },
      "execution_count": null,
      "outputs": []
    }
  ]
}