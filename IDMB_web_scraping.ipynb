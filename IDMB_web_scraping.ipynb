{
  "nbformat": 4,
  "nbformat_minor": 0,
  "metadata": {
    "colab": {
      "provenance": []
    },
    "kernelspec": {
      "name": "python3",
      "display_name": "Python 3"
    },
    "language_info": {
      "name": "python"
    }
  },
  "cells": [
    {
      "cell_type": "code",
      "execution_count": null,
      "metadata": {
        "colab": {
          "base_uri": "https://localhost:8080/",
          "height": 17
        },
        "id": "2D9HsCuA7hq9",
        "outputId": "7db32808-cf3e-4ebd-81f4-489f030292b2"
      },
      "outputs": [
        {
          "output_type": "display_data",
          "data": {
            "text/plain": [
              "<IPython.core.display.Javascript object>"
            ],
            "application/javascript": [
              "\n",
              "    async function download(id, filename, size) {\n",
              "      if (!google.colab.kernel.accessAllowed) {\n",
              "        return;\n",
              "      }\n",
              "      const div = document.createElement('div');\n",
              "      const label = document.createElement('label');\n",
              "      label.textContent = `Downloading \"${filename}\": `;\n",
              "      div.appendChild(label);\n",
              "      const progress = document.createElement('progress');\n",
              "      progress.max = size;\n",
              "      div.appendChild(progress);\n",
              "      document.body.appendChild(div);\n",
              "\n",
              "      const buffers = [];\n",
              "      let downloaded = 0;\n",
              "\n",
              "      const channel = await google.colab.kernel.comms.open(id);\n",
              "      // Send a message to notify the kernel that we're ready.\n",
              "      channel.send({})\n",
              "\n",
              "      for await (const message of channel.messages) {\n",
              "        // Send a message to notify the kernel that we're ready.\n",
              "        channel.send({})\n",
              "        if (message.buffers) {\n",
              "          for (const buffer of message.buffers) {\n",
              "            buffers.push(buffer);\n",
              "            downloaded += buffer.byteLength;\n",
              "            progress.value = downloaded;\n",
              "          }\n",
              "        }\n",
              "      }\n",
              "      const blob = new Blob(buffers, {type: 'application/binary'});\n",
              "      const a = document.createElement('a');\n",
              "      a.href = window.URL.createObjectURL(blob);\n",
              "      a.download = filename;\n",
              "      div.appendChild(a);\n",
              "      a.click();\n",
              "      div.remove();\n",
              "    }\n",
              "  "
            ]
          },
          "metadata": {}
        },
        {
          "output_type": "display_data",
          "data": {
            "text/plain": [
              "<IPython.core.display.Javascript object>"
            ],
            "application/javascript": [
              "download(\"download_2a3fd7c5-40a8-4c92-927d-a1ce421a4f78\", \"movie_data.xlsx\", 5049)"
            ]
          },
          "metadata": {}
        }
      ],
      "source": [
        "# 9/18/2023\n",
        "# CSC461 – Assignment1 – Web Scraping\n",
        "# Malik Ashas Abbas\n",
        "# fa21-bse-120\n",
        "# Webscraping IDMB website for Movie names and Ratings\n",
        "\n",
        "import requests\n",
        "import pandas as pd\n",
        "from bs4 import BeautifulSoup\n",
        "import time\n",
        "\n",
        "movie_names = []\n",
        "movie_ratings = []\n",
        "\n",
        "headers = {\n",
        "    'User-Agent': 'Mozilla/5.0 (Windows NT 10.0; Win64; x64) AppleWebKit/537.36 (KHTML, like Gecko) Chrome/58.0.3029.110 Safari/537.36'\n",
        "}\n",
        "\n",
        "urls = [\n",
        "    \"https://www.imdb.com/title/tt1805263/?ref_=nm_knf_c_3\",\n",
        "    \"https://www.imdb.com/title/tt10366206/?ref_=nv_sr_srsg_0_tt_8_nm_0_q_john%2520wick\",\n",
        "    \"https://www.imdb.com/title/tt4692368/?ref_=nv_sr_srsg_0_tt_3_nm_4_q_jawani%2520phir\",\n",
        "    \"https://www.imdb.com/title/tt0347304/?ref_=nv_sr_srsg_0_tt_7_nm_1_q_kal%2520ho%2520na\",\n",
        "    \"https://www.imdb.com/title/tt11497834/?ref_=nv_sr_srsg_0_tt_1_nm_0_q_zindagi%2520tamasha\"\n",
        "]\n",
        "\n",
        "for url in urls:\n",
        "    r = requests.get(url, headers=headers)\n",
        "    soup = BeautifulSoup(r.content, 'html.parser')\n",
        "    h1 = soup.find(attrs={\"class\": \"sc-afe43def-1 fDTGTb\"})\n",
        "    h2 = soup.find(attrs={\"class\": \"sc-bde20123-1 iZlgcd\"})\n",
        "    if h1:\n",
        "        movie_names.append(h1.string)\n",
        "    else:\n",
        "        movie_names.append(\"Movie name not found\")\n",
        "\n",
        "    if h2:\n",
        "        movie_ratings.append(h2.string)\n",
        "    else:\n",
        "        movie_ratings.append(\"Movie rating not found\")\n",
        "\n",
        "df = pd.DataFrame({'Movie Name is': movie_names, 'Movie Rating is': movie_ratings})\n",
        "df.to_excel('movie_data.xlsx', index=False)\n",
        "\n",
        "from google.colab import files\n",
        "files.download('movie_data.xlsx')\n",
        "\n",
        "time.sleep(1)\n"
      ]
    },
    {
      "cell_type": "code",
      "source": [],
      "metadata": {
        "id": "vTfgLtBwQLTG"
      },
      "execution_count": null,
      "outputs": []
    }
  ]
}