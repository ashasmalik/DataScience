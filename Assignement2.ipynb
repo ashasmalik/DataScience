{
  "nbformat": 4,
  "nbformat_minor": 0,
  "metadata": {
    "colab": {
      "provenance": [],
      "authorship_tag": "ABX9TyNnucY9uhgLpWVRfgr3S3sf",
      "include_colab_link": true
    },
    "kernelspec": {
      "name": "python3",
      "display_name": "Python 3"
    },
    "language_info": {
      "name": "python"
    }
  },
  "cells": [
    {
      "cell_type": "markdown",
      "metadata": {
        "id": "view-in-github",
        "colab_type": "text"
      },
      "source": [
        "<a href=\"https://colab.research.google.com/github/ashasmalik/DataScience/blob/main/Assignement2.ipynb\" target=\"_parent\"><img src=\"https://colab.research.google.com/assets/colab-badge.svg\" alt=\"Open In Colab\"/></a>"
      ]
    },
    {
      "cell_type": "markdown",
      "source": [
        "# Date: 30-9-2023\n",
        "# CSC461 – Assignment2 – Regular Expressions\n",
        "# Malik Ashas Abbas\n",
        "# fa21-bse-120\n",
        "# Read the file (example-text.txt) and write regular expressions to accomplish the following."
      ],
      "metadata": {
        "id": "sjQ98t1P-tZO"
      }
    },
    {
      "cell_type": "code",
      "execution_count": 28,
      "metadata": {
        "colab": {
          "base_uri": "https://localhost:8080/"
        },
        "id": "BzLyn5NPud5G",
        "outputId": "5652a49e-dfce-4dca-8387-4db3e83e8116"
      },
      "outputs": [
        {
          "output_type": "stream",
          "name": "stdout",
          "text": [
            "Drive already mounted at /content/drive; to attempt to forcibly remount, call drive.mount(\"/content/drive\", force_remount=True).\n"
          ]
        }
      ],
      "source": [
        "from google.colab import drive\n",
        "drive.mount('/content/drive')"
      ]
    },
    {
      "cell_type": "code",
      "metadata": {
        "id": "iksuKTaXx2_t",
        "colab": {
          "base_uri": "https://localhost:8080/"
        },
        "outputId": "6cfae19b-011b-4e4e-d1fc-5768ca3805af"
      },
      "source": [
        "# Extract list of all words.\n",
        "import re\n",
        "with open('/content/drive/MyDrive/example-text.txt', \"r\") as file1:\n",
        "   text = file1.read()\n",
        "words = re.findall(r'\\b\\w+\\b',text)\n",
        "word_list = list(words)\n",
        "print(word_list)"
      ],
      "execution_count": 5,
      "outputs": [
        {
          "output_type": "stream",
          "name": "stdout",
          "text": [
            "['The', 'outlook', 'wasn', 't', 'brilliant', 'for', 'the', 'Mudville', 'nine', 'that', 'day', 'The', 'score', 'stood', 'four', 'to', 'two', 'with', 'but', 'one', 'inning', 'more', 'to', 'play', 'And', 'then', 'when', 'Cooney', 'died', 'at', 'first', 'and', 'Barrows', 'did', 'the', 'same', 'A', 'pall', 'like', 'silence', 'fell', 'upon', 'the', 'patrons', 'of', 'the', 'game', 'A', 'straggling', 'few', 'got', 'up', 'to', 'go', 'in', 'deep', 'despair', 'The', 'rest', 'Clung', 'to', 'that', 'hope', 'which', 'springs', 'eternal', 'in', 'the', 'human', 'breast', 'They', 'thought', 'If', 'only', 'Casey', 'could', 'but', 'get', 'a', 'whack', 'at', 'that', 'We', 'd', 'put', 'up', 'even', 'money', 'now', 'with', 'Casey', 'at', 'the', 'bat', 'But', 'Flynn', 'preceded', 'Casey', 'as', 'did', 'also', 'Jimmy', 'Blake', 'And', 'the', 'former', 'was', 'a', 'lulu', 'while', 'the', 'latter', 'was', 'a', 'cake', 'So', 'upon', 'that', 'stricken', 'multitude', 'grim', 'melancholy', 'sat', 'For', 'there', 'seemed', 'but', 'little', 'chance', 'of', 'Casey', 'getting', 'to', 'the', 'bat', 'But', 'Flynn', 'let', 'drive', 'a', 'single', 'to', 'the', 'wonderment', 'of', 'all', 'And', 'Blake', 'the', 'much', 'despised', 'tore', 'the', 'cover', 'off', 'the', 'ball', 'And', 'when', 'the', 'dust', 'had', 'lifted', 'and', 'men', 'saw', 'what', 'had', 'occurred', 'There', 'was', 'Jimmy', 'safe', 'at', 'second', 'and', 'Flynn', 'a', 'hugging', 'third', 'Then', 'from', 'five', 'thousand', 'throats', 'and', 'more', 'there', 'rose', 'a', 'lusty', 'yell', 'It', 'rumbled', 'through', 'the', 'valley', 'it', 'rattled', 'in', 'the', 'dell', 'It', 'pounded', 'on', 'the', 'mountain', 'and', 'recoiled', 'upon', 'the', 'flat', 'For', 'Casey', 'mighty', 'Casey', 'was', 'advancing', 'to', 'the', 'bat', 'There', 'was', 'ease', 'in', 'Casey', 's', 'manner', 'as', 'he', 'stepped', 'into', 'his', 'place', 'There', 'was', 'pride', 'in', 'Casey', 's', 'bearing', 'and', 'a', 'smile', 'lit', 'Casey', 's', 'face', 'And', 'when', 'responding', 'to', 'the', 'cheers', 'he', 'lightly', 'doffed', 'his', 'hat', 'No', 'stranger', 'in', 'the', 'crowd', 'could', 'doubt', 'twas', 'Casey', 'at', 'the', 'bat', 'Ten', 'thousand', 'eyes', 'were', 'on', 'him', 'as', 'he', 'rubbed', 'his', 'hands', 'with', 'dirt', 'Five', 'thousand', 'tongues', 'applauded', 'when', 'he', 'wiped', 'them', 'on', 'his', 'shirt', 'Then', 'while', 'the', 'writhing', 'pitcher', 'ground', 'the', 'ball', 'into', 'his', 'hip', 'Defiance', 'flashed', 'in', 'Casey', 's', 'eye', 'a', 'sneer', 'curled', 'Casey', 's', 'lip', 'And', 'now', 'the', 'leather', 'covered', 'sphere', 'came', 'hurtling', 'through', 'the', 'air', 'And', 'Casey', 'stood', 'a', 'watching', 'it', 'in', 'haughty', 'grandeur', 'there', 'Close', 'by', 'the', 'sturdy', 'batsman', 'the', 'ball', 'unheeded', 'sped', 'That', 'ain', 't', 'my', 'style', 'said', 'Casey', 'Strike', 'one', 'the', 'umpire', 'said', 'From', 'the', 'benches', 'black', 'with', 'people', 'there', 'went', 'up', 'a', 'muffled', 'roar', 'Like', 'the', 'beating', 'of', 'the', 'storm', 'waves', 'on', 'a', 'stern', 'and', 'distant', 'shore', 'Kill', 'him', 'Kill', 'the', 'umpire', 'shouted', 'some', 'one', 'on', 'the', 'stand', 'And', 'it', 's', 'likely', 'they', 'd', 'have', 'killed', 'him', 'had', 'not', 'Casey', 'raised', 'his', 'hand', 'With', 'a', 'smile', 'of', 'Christian', 'charity', 'great', 'Casey', 's', 'visage', 'shone', 'He', 'stilled', 'the', 'rising', 'tumult', 'he', 'bade', 'the', 'game', 'go', 'on', 'He', 'signaled', 'to', 'the', 'pitcher', 'and', 'once', 'more', 'the', 'dun', 'sphere', 'flew', 'But', 'Casey', 'still', 'ignored', 'it', 'and', 'the', 'umpire', 'said', 'Strike', 'two', 'Fraud', 'cried', 'the', 'maddened', 'thousands', 'and', 'echo', 'answered', 'Fraud', 'But', 'one', 'scornful', 'look', 'from', 'Casey', 'and', 'the', 'audience', 'was', 'awed', 'They', 'saw', 'his', 'face', 'grow', 'stern', 'and', 'cold', 'they', 'saw', 'his', 'muscles', 'strain', 'And', 'they', 'knew', 'that', 'Casey', 'wouldn', 't', 'let', 'that', 'ball', 'go', 'by', 'again', 'The', 'sneer', 'has', 'fled', 'from', 'Casey', 's', 'lip', 'his', 'teeth', 'are', 'clenched', 'in', 'hate', 'He', 'pounds', 'with', 'cruel', 'violence', 'his', 'bat', 'upon', 'the', 'plate', 'And', 'now', 'the', 'pitcher', 'holds', 'the', 'ball', 'and', 'now', 'he', 'lets', 'it', 'go', 'And', 'now', 'the', 'air', 'is', 'shattered', 'by', 'the', 'force', 'of', 'Casey', 's', 'blow', 'Oh', 'somewhere', 'in', 'this', 'favored', 'land', 'the', 'sun', 'is', 'shining', 'bright', 'The', 'band', 'is', 'playing', 'somewhere', 'and', 'somewhere', 'hearts', 'are', 'light', 'And', 'somewhere', 'men', 'are', 'laughing', 'and', 'little', 'children', 'shout', 'But', 'there', 'is', 'no', 'joy', 'in', 'Mudville', 'great', 'Casey', 'has', 'struck', 'out']\n"
          ]
        }
      ]
    },
    {
      "cell_type": "code",
      "source": [
        "# Extract list of all words with capital letter\n",
        "import re\n",
        "with open('/content/drive/MyDrive/example-text.txt', \"r\") as file1:\n",
        "   text = file1.read()\n",
        "capital_words = re.findall(r'\\b[A-Z][a-zA-Z]*\\b', text)\n",
        "word_list = list(capital_words)\n",
        "print(word_list)"
      ],
      "metadata": {
        "colab": {
          "base_uri": "https://localhost:8080/"
        },
        "id": "PUpmZxHyzij9",
        "outputId": "e8c30815-b5ec-495c-c816-43733190f8a4"
      },
      "execution_count": 7,
      "outputs": [
        {
          "output_type": "stream",
          "name": "stdout",
          "text": [
            "['The', 'Mudville', 'The', 'And', 'Cooney', 'Barrows', 'A', 'A', 'The', 'Clung', 'They', 'If', 'Casey', 'We', 'Casey', 'But', 'Flynn', 'Casey', 'Jimmy', 'Blake', 'And', 'So', 'For', 'Casey', 'But', 'Flynn', 'And', 'Blake', 'And', 'There', 'Jimmy', 'Flynn', 'Then', 'It', 'It', 'For', 'Casey', 'Casey', 'There', 'Casey', 'There', 'Casey', 'Casey', 'And', 'No', 'Casey', 'Ten', 'Five', 'Then', 'Defiance', 'Casey', 'Casey', 'And', 'And', 'Casey', 'Close', 'That', 'Casey', 'Strike', 'From', 'Like', 'Kill', 'Kill', 'And', 'Casey', 'With', 'Christian', 'Casey', 'He', 'He', 'But', 'Casey', 'Strike', 'Fraud', 'Fraud', 'But', 'Casey', 'They', 'And', 'Casey', 'The', 'Casey', 'He', 'And', 'And', 'Casey', 'Oh', 'The', 'And', 'But', 'Mudville', 'Casey']\n"
          ]
        }
      ]
    },
    {
      "cell_type": "code",
      "source": [
        "# Extract list of all words with words of lentgh 5\n",
        "import re\n",
        "with open('/content/drive/MyDrive/example-text.txt', \"r\") as file1:\n",
        "   text = file1.read()\n",
        "words_of_length_5 = re.findall(r'\\b\\w{5}\\b', text)\n",
        "word_list5 = list(words_of_length_5)\n",
        "print(word_list5)"
      ],
      "metadata": {
        "colab": {
          "base_uri": "https://localhost:8080/"
        },
        "id": "HrZGSmE50o_k",
        "outputId": "60a809a8-167d-4fe4-ef37-9df68986adf3"
      },
      "execution_count": 10,
      "outputs": [
        {
          "output_type": "stream",
          "name": "stdout",
          "text": [
            "['score', 'stood', 'first', 'Clung', 'which', 'human', 'Casey', 'could', 'whack', 'money', 'Casey', 'Flynn', 'Casey', 'Jimmy', 'Blake', 'while', 'there', 'Casey', 'Flynn', 'drive', 'Blake', 'cover', 'There', 'Jimmy', 'Flynn', 'third', 'there', 'lusty', 'Casey', 'Casey', 'There', 'Casey', 'place', 'There', 'pride', 'Casey', 'smile', 'Casey', 'crowd', 'could', 'doubt', 'Casey', 'hands', 'wiped', 'shirt', 'while', 'Casey', 'sneer', 'Casey', 'Casey', 'stood', 'there', 'Close', 'style', 'Casey', 'black', 'there', 'storm', 'waves', 'stern', 'shore', 'stand', 'Casey', 'smile', 'great', 'Casey', 'shone', 'Casey', 'still', 'Fraud', 'cried', 'Fraud', 'Casey', 'stern', 'Casey', 'again', 'sneer', 'Casey', 'teeth', 'cruel', 'plate', 'holds', 'force', 'Casey', 'light', 'shout', 'there', 'great', 'Casey']\n"
          ]
        }
      ]
    },
    {
      "cell_type": "code",
      "source": [
        "# Extract list of all words with words with quotes\n",
        "import re\n",
        "with open('/content/drive/MyDrive/example-text.txt', \"r\") as file1:\n",
        "   text = file1.read()\n",
        "words_inside_quotes = re.findall(r'\"([^\"]*)\"', text)\n",
        "word_listQ = list(words_inside_quotes)\n",
        "print(word_listQ)"
      ],
      "metadata": {
        "colab": {
          "base_uri": "https://localhost:8080/"
        },
        "id": "ULBskyu61K1e",
        "outputId": "132e1f3a-7fd5-4cdd-977f-5a50a6b850a3"
      },
      "execution_count": 12,
      "outputs": [
        {
          "output_type": "stream",
          "name": "stdout",
          "text": [
            "[\"If only Casey could but get a whack at that--\\nWe'd put up even money now, with Casey at the bat.\", \"That ain't my style,\", 'Strike one!', 'Kill him! Kill the umpire!', 'Strike two!', 'Fraud!', 'Fraud!']\n"
          ]
        }
      ]
    },
    {
      "cell_type": "code",
      "source": [
        "# Extract list of all words with words with vowels\n",
        "import re\n",
        "with open('/content/drive/MyDrive/example-text.txt', \"r\") as file1:\n",
        "   text = file1.read()\n",
        "vowels = re.findall(r'\\b\\w*[aeiouAEIOU]\\w*\\b', text)\n",
        "vowels_list = list(vowels)\n",
        "print(vowels_list)"
      ],
      "metadata": {
        "colab": {
          "base_uri": "https://localhost:8080/"
        },
        "id": "uj9tsVK-1i_S",
        "outputId": "cb7d782e-5627-4407-8675-7cd284121a25"
      },
      "execution_count": 36,
      "outputs": [
        {
          "output_type": "stream",
          "name": "stdout",
          "text": [
            "['The', 'outlook', 'wasn', 'brilliant', 'for', 'the', 'Mudville', 'nine', 'that', 'day', 'The', 'score', 'stood', 'four', 'to', 'two', 'with', 'but', 'one', 'inning', 'more', 'to', 'play', 'And', 'then', 'when', 'Cooney', 'died', 'at', 'first', 'and', 'Barrows', 'did', 'the', 'same', 'A', 'pall', 'like', 'silence', 'fell', 'upon', 'the', 'patrons', 'of', 'the', 'game', 'A', 'straggling', 'few', 'got', 'up', 'to', 'go', 'in', 'deep', 'despair', 'The', 'rest', 'Clung', 'to', 'that', 'hope', 'which', 'springs', 'eternal', 'in', 'the', 'human', 'breast', 'They', 'thought', 'If', 'only', 'Casey', 'could', 'but', 'get', 'a', 'whack', 'at', 'that', 'We', 'put', 'up', 'even', 'money', 'now', 'with', 'Casey', 'at', 'the', 'bat', 'But', 'preceded', 'Casey', 'as', 'did', 'also', 'Jimmy', 'Blake', 'And', 'the', 'former', 'was', 'a', 'lulu', 'while', 'the', 'latter', 'was', 'a', 'cake', 'So', 'upon', 'that', 'stricken', 'multitude', 'grim', 'melancholy', 'sat', 'For', 'there', 'seemed', 'but', 'little', 'chance', 'of', 'Casey', 'getting', 'to', 'the', 'bat', 'But', 'let', 'drive', 'a', 'single', 'to', 'the', 'wonderment', 'of', 'all', 'And', 'Blake', 'the', 'much', 'despised', 'tore', 'the', 'cover', 'off', 'the', 'ball', 'And', 'when', 'the', 'dust', 'had', 'lifted', 'and', 'men', 'saw', 'what', 'had', 'occurred', 'There', 'was', 'Jimmy', 'safe', 'at', 'second', 'and', 'a', 'hugging', 'third', 'Then', 'from', 'five', 'thousand', 'throats', 'and', 'more', 'there', 'rose', 'a', 'lusty', 'yell', 'It', 'rumbled', 'through', 'the', 'valley', 'it', 'rattled', 'in', 'the', 'dell', 'It', 'pounded', 'on', 'the', 'mountain', 'and', 'recoiled', 'upon', 'the', 'flat', 'For', 'Casey', 'mighty', 'Casey', 'was', 'advancing', 'to', 'the', 'bat', 'There', 'was', 'ease', 'in', 'Casey', 'manner', 'as', 'he', 'stepped', 'into', 'his', 'place', 'There', 'was', 'pride', 'in', 'Casey', 'bearing', 'and', 'a', 'smile', 'lit', 'Casey', 'face', 'And', 'when', 'responding', 'to', 'the', 'cheers', 'he', 'lightly', 'doffed', 'his', 'hat', 'No', 'stranger', 'in', 'the', 'crowd', 'could', 'doubt', 'twas', 'Casey', 'at', 'the', 'bat', 'Ten', 'thousand', 'eyes', 'were', 'on', 'him', 'as', 'he', 'rubbed', 'his', 'hands', 'with', 'dirt', 'Five', 'thousand', 'tongues', 'applauded', 'when', 'he', 'wiped', 'them', 'on', 'his', 'shirt', 'Then', 'while', 'the', 'writhing', 'pitcher', 'ground', 'the', 'ball', 'into', 'his', 'hip', 'Defiance', 'flashed', 'in', 'Casey', 'eye', 'a', 'sneer', 'curled', 'Casey', 'lip', 'And', 'now', 'the', 'leather', 'covered', 'sphere', 'came', 'hurtling', 'through', 'the', 'air', 'And', 'Casey', 'stood', 'a', 'watching', 'it', 'in', 'haughty', 'grandeur', 'there', 'Close', 'the', 'sturdy', 'batsman', 'the', 'ball', 'unheeded', 'sped', 'That', 'ain', 'style', 'said', 'Casey', 'Strike', 'one', 'the', 'umpire', 'said', 'From', 'the', 'benches', 'black', 'with', 'people', 'there', 'went', 'up', 'a', 'muffled', 'roar', 'Like', 'the', 'beating', 'of', 'the', 'storm', 'waves', 'on', 'a', 'stern', 'and', 'distant', 'shore', 'Kill', 'him', 'Kill', 'the', 'umpire', 'shouted', 'some', 'one', 'on', 'the', 'stand', 'And', 'it', 'likely', 'they', 'have', 'killed', 'him', 'had', 'not', 'Casey', 'raised', 'his', 'hand', 'With', 'a', 'smile', 'of', 'Christian', 'charity', 'great', 'Casey', 'visage', 'shone', 'He', 'stilled', 'the', 'rising', 'tumult', 'he', 'bade', 'the', 'game', 'go', 'on', 'He', 'signaled', 'to', 'the', 'pitcher', 'and', 'once', 'more', 'the', 'dun', 'sphere', 'flew', 'But', 'Casey', 'still', 'ignored', 'it', 'and', 'the', 'umpire', 'said', 'Strike', 'two', 'Fraud', 'cried', 'the', 'maddened', 'thousands', 'and', 'echo', 'answered', 'Fraud', 'But', 'one', 'scornful', 'look', 'from', 'Casey', 'and', 'the', 'audience', 'was', 'awed', 'They', 'saw', 'his', 'face', 'grow', 'stern', 'and', 'cold', 'they', 'saw', 'his', 'muscles', 'strain', 'And', 'they', 'knew', 'that', 'Casey', 'wouldn', 'let', 'that', 'ball', 'go', 'again', 'The', 'sneer', 'has', 'fled', 'from', 'Casey', 'lip', 'his', 'teeth', 'are', 'clenched', 'in', 'hate', 'He', 'pounds', 'with', 'cruel', 'violence', 'his', 'bat', 'upon', 'the', 'plate', 'And', 'now', 'the', 'pitcher', 'holds', 'the', 'ball', 'and', 'now', 'he', 'lets', 'it', 'go', 'And', 'now', 'the', 'air', 'is', 'shattered', 'the', 'force', 'of', 'Casey', 'blow', 'Oh', 'somewhere', 'in', 'this', 'favored', 'land', 'the', 'sun', 'is', 'shining', 'bright', 'The', 'band', 'is', 'playing', 'somewhere', 'and', 'somewhere', 'hearts', 'are', 'light', 'And', 'somewhere', 'men', 'are', 'laughing', 'and', 'little', 'children', 'shout', 'But', 'there', 'is', 'no', 'joy', 'in', 'Mudville', 'great', 'Casey', 'has', 'struck', 'out']\n"
          ]
        }
      ]
    },
    {
      "cell_type": "code",
      "source": [
        "# Extract list of all words with words starting and ending with B\n",
        "import re\n",
        "with open('/content/drive/MyDrive/example-text.txt', \"r\") as file1:\n",
        "   text = file1.read()\n",
        "pattern = r'\\b[bB]\\w*b\\b'\n",
        "matches = re.findall(pattern, text, flags=re.IGNORECASE)\n",
        "print(matches)"
      ],
      "metadata": {
        "colab": {
          "base_uri": "https://localhost:8080/"
        },
        "id": "3ef5j1Xg2O3O",
        "outputId": "b5f36c23-bade-4bf8-8c57-d86000f49293"
      },
      "execution_count": 31,
      "outputs": [
        {
          "output_type": "stream",
          "name": "stdout",
          "text": [
            "[]\n"
          ]
        }
      ]
    },
    {
      "cell_type": "code",
      "source": [
        "#Replace all words ending ‘n't’ to their full form ‘not’.\n",
        "import re\n",
        "with open('/content/drive/MyDrive/example-text.txt', \"r\") as file1:\n",
        "   text = file1.read()\n",
        "text_replaced = re.sub(r'\\b(\\w+)n\\'t\\b', lambda match: match.group(1) + 'not', text)\n",
        "print(text_replaced)"
      ],
      "metadata": {
        "colab": {
          "base_uri": "https://localhost:8080/"
        },
        "id": "aPSHDlB25SW8",
        "outputId": "944234ef-b794-4400-ffd7-6712c8215221"
      },
      "execution_count": 34,
      "outputs": [
        {
          "output_type": "stream",
          "name": "stdout",
          "text": [
            "The outlook wasnot brilliant for the Mudville nine that day; \n",
            "The score stood four to two, with but one inning more to play,\n",
            "And then when Cooney died at first, and Barrows did the same,\n",
            "A pall-like silence fell upon the patrons of the game. \n",
            "\n",
            "A straggling few got up to go in deep despair. The rest\n",
            "Clung to that hope which springs eternal in the human breast;\n",
            "They thought, \"If only Casey could but get a whack at that--\n",
            "We'd put up even money now, with Casey at the bat.\" \n",
            "\n",
            "But Flynn preceded Casey, as did also Jimmy Blake,\n",
            "And the former was a lulu, while the latter was a cake;\n",
            "So upon that stricken multitude grim melancholy sat,\n",
            "For there seemed but little chance of Casey getting to the bat.\n",
            "\n",
            "But Flynn let drive a single, to the wonderment of all,\n",
            "And Blake, the much despised, tore the cover off the ball;\n",
            "And when the dust had lifted, and men saw what had occurred,\n",
            "There was Jimmy safe at second and Flynn a-hugging third. \n",
            "\n",
            "Then from five thousand throats and more there rose a lusty yell;\n",
            "It rumbled through the valley, it rattled in the dell;\n",
            "It pounded on the mountain and recoiled upon the flat,\n",
            "For Casey, mighty Casey, was advancing to the bat. \n",
            "\n",
            "There was ease in Casey's manner as he stepped into his place;\n",
            "There was pride in Casey's bearing and a smile lit Casey's face.\n",
            "And when, responding to the cheers, he lightly doffed his hat,\n",
            "No stranger in the crowd could doubt 'twas Casey at the bat. \n",
            "\n",
            "Ten thousand eyes were on him as he rubbed his hands with dirt;\n",
            "Five thousand tongues applauded when he wiped them on his shirt;\n",
            "Then while the writhing pitcher ground the ball into his hip,\n",
            "Defiance flashed in Casey's eye, a sneer curled Casey's lip. \n",
            "\n",
            "And now the leather-covered sphere came hurtling through the air,\n",
            "And Casey stood a-watching it in haughty grandeur there.\n",
            "Close by the sturdy batsman the ball unheeded sped--\n",
            "\"That ainot my style,\" said Casey. \"Strike one!\" the umpire said. \n",
            "\n",
            "From the benches, black with people, there went up a muffled roar,\n",
            "Like the beating of the storm-waves on a stern and distant shore;\n",
            "\"Kill him! Kill the umpire!\" shouted some one on the stand;\n",
            "And it's likely they'd have killed him had not Casey raised his hand. \n",
            "\n",
            "With a smile of Christian charity great Casey's visage shone;\n",
            "He stilled the rising tumult; he bade the game go on;\n",
            "He signaled to the pitcher, and once more the dun sphere flew;\n",
            "But Casey still ignored it, and the umpire said, \"Strike two!\" \n",
            "\n",
            "\"Fraud!\" cried the maddened thousands, and echo answered \"Fraud!\"\n",
            "But one scornful look from Casey and the audience was awed.\n",
            "They saw his face grow stern and cold, they saw his muscles strain,\n",
            "And they knew that Casey wouldnot let that ball go by again. \n",
            "\n",
            "The sneer has fled from Casey's lip, his teeth are clenched in hate;\n",
            "He pounds with cruel violence his bat upon the plate.\n",
            "And now the pitcher holds the ball, and now he lets it go.\n",
            "And now the air is shattered by the force of Casey's blow. \n",
            "\n",
            "Oh, somewhere in this favored land the sun is shining bright;\n",
            "The band is playing somewhere, and somewhere hearts are light,\n",
            "And somewhere men are laughing, and little children shout;\n",
            "But there is no joy in Mudville--great Casey has struck out\n",
            "\n"
          ]
        }
      ]
    },
    {
      "cell_type": "code",
      "source": [
        "#Replace all the new lines with a single space.\n",
        "import re\n",
        "with open('/content/drive/MyDrive/example-text.txt', \"r\") as file1:\n",
        "   text = file1.read()\n",
        "text_replaced = re.sub('\\n', ' ', text)\n",
        "print(text_replaced)"
      ],
      "metadata": {
        "colab": {
          "base_uri": "https://localhost:8080/"
        },
        "id": "oq0z2y1G8dT4",
        "outputId": "7250a067-14e4-475e-9a2f-0324ac88b9cd"
      },
      "execution_count": 35,
      "outputs": [
        {
          "output_type": "stream",
          "name": "stdout",
          "text": [
            "The outlook wasn't brilliant for the Mudville nine that day;  The score stood four to two, with but one inning more to play, And then when Cooney died at first, and Barrows did the same, A pall-like silence fell upon the patrons of the game.   A straggling few got up to go in deep despair. The rest Clung to that hope which springs eternal in the human breast; They thought, \"If only Casey could but get a whack at that-- We'd put up even money now, with Casey at the bat.\"   But Flynn preceded Casey, as did also Jimmy Blake, And the former was a lulu, while the latter was a cake; So upon that stricken multitude grim melancholy sat, For there seemed but little chance of Casey getting to the bat.  But Flynn let drive a single, to the wonderment of all, And Blake, the much despised, tore the cover off the ball; And when the dust had lifted, and men saw what had occurred, There was Jimmy safe at second and Flynn a-hugging third.   Then from five thousand throats and more there rose a lusty yell; It rumbled through the valley, it rattled in the dell; It pounded on the mountain and recoiled upon the flat, For Casey, mighty Casey, was advancing to the bat.   There was ease in Casey's manner as he stepped into his place; There was pride in Casey's bearing and a smile lit Casey's face. And when, responding to the cheers, he lightly doffed his hat, No stranger in the crowd could doubt 'twas Casey at the bat.   Ten thousand eyes were on him as he rubbed his hands with dirt; Five thousand tongues applauded when he wiped them on his shirt; Then while the writhing pitcher ground the ball into his hip, Defiance flashed in Casey's eye, a sneer curled Casey's lip.   And now the leather-covered sphere came hurtling through the air, And Casey stood a-watching it in haughty grandeur there. Close by the sturdy batsman the ball unheeded sped-- \"That ain't my style,\" said Casey. \"Strike one!\" the umpire said.   From the benches, black with people, there went up a muffled roar, Like the beating of the storm-waves on a stern and distant shore; \"Kill him! Kill the umpire!\" shouted some one on the stand; And it's likely they'd have killed him had not Casey raised his hand.   With a smile of Christian charity great Casey's visage shone; He stilled the rising tumult; he bade the game go on; He signaled to the pitcher, and once more the dun sphere flew; But Casey still ignored it, and the umpire said, \"Strike two!\"   \"Fraud!\" cried the maddened thousands, and echo answered \"Fraud!\" But one scornful look from Casey and the audience was awed. They saw his face grow stern and cold, they saw his muscles strain, And they knew that Casey wouldn't let that ball go by again.   The sneer has fled from Casey's lip, his teeth are clenched in hate; He pounds with cruel violence his bat upon the plate. And now the pitcher holds the ball, and now he lets it go. And now the air is shattered by the force of Casey's blow.   Oh, somewhere in this favored land the sun is shining bright; The band is playing somewhere, and somewhere hearts are light, And somewhere men are laughing, and little children shout; But there is no joy in Mudville--great Casey has struck out \n"
          ]
        }
      ]
    },
    {
      "cell_type": "code",
      "source": [
        "# Remove all the punctuation marks from the text.\n",
        "import re\n",
        "with open('/content/drive/MyDrive/example-text.txt', \"r\") as file1:\n",
        "   text = file1.read()\n",
        "text_without_punctuation = re.sub(r'[!,;.]','', text)\n",
        "print(text_without_punctuation)"
      ],
      "metadata": {
        "colab": {
          "base_uri": "https://localhost:8080/"
        },
        "id": "u0NKIjAf9Jk1",
        "outputId": "4c831414-76ef-4b6d-9c9b-2ac6364b288d"
      },
      "execution_count": 41,
      "outputs": [
        {
          "output_type": "stream",
          "name": "stdout",
          "text": [
            "The outlook wasn't brilliant for the Mudville nine that day \n",
            "The score stood four to two with but one inning more to play\n",
            "And then when Cooney died at first and Barrows did the same\n",
            "A pall-like silence fell upon the patrons of the game \n",
            "\n",
            "A straggling few got up to go in deep despair The rest\n",
            "Clung to that hope which springs eternal in the human breast\n",
            "They thought \"If only Casey could but get a whack at that--\n",
            "We'd put up even money now with Casey at the bat\" \n",
            "\n",
            "But Flynn preceded Casey as did also Jimmy Blake\n",
            "And the former was a lulu while the latter was a cake\n",
            "So upon that stricken multitude grim melancholy sat\n",
            "For there seemed but little chance of Casey getting to the bat\n",
            "\n",
            "But Flynn let drive a single to the wonderment of all\n",
            "And Blake the much despised tore the cover off the ball\n",
            "And when the dust had lifted and men saw what had occurred\n",
            "There was Jimmy safe at second and Flynn a-hugging third \n",
            "\n",
            "Then from five thousand throats and more there rose a lusty yell\n",
            "It rumbled through the valley it rattled in the dell\n",
            "It pounded on the mountain and recoiled upon the flat\n",
            "For Casey mighty Casey was advancing to the bat \n",
            "\n",
            "There was ease in Casey's manner as he stepped into his place\n",
            "There was pride in Casey's bearing and a smile lit Casey's face\n",
            "And when responding to the cheers he lightly doffed his hat\n",
            "No stranger in the crowd could doubt 'twas Casey at the bat \n",
            "\n",
            "Ten thousand eyes were on him as he rubbed his hands with dirt\n",
            "Five thousand tongues applauded when he wiped them on his shirt\n",
            "Then while the writhing pitcher ground the ball into his hip\n",
            "Defiance flashed in Casey's eye a sneer curled Casey's lip \n",
            "\n",
            "And now the leather-covered sphere came hurtling through the air\n",
            "And Casey stood a-watching it in haughty grandeur there\n",
            "Close by the sturdy batsman the ball unheeded sped--\n",
            "\"That ain't my style\" said Casey \"Strike one\" the umpire said \n",
            "\n",
            "From the benches black with people there went up a muffled roar\n",
            "Like the beating of the storm-waves on a stern and distant shore\n",
            "\"Kill him Kill the umpire\" shouted some one on the stand\n",
            "And it's likely they'd have killed him had not Casey raised his hand \n",
            "\n",
            "With a smile of Christian charity great Casey's visage shone\n",
            "He stilled the rising tumult he bade the game go on\n",
            "He signaled to the pitcher and once more the dun sphere flew\n",
            "But Casey still ignored it and the umpire said \"Strike two\" \n",
            "\n",
            "\"Fraud\" cried the maddened thousands and echo answered \"Fraud\"\n",
            "But one scornful look from Casey and the audience was awed\n",
            "They saw his face grow stern and cold they saw his muscles strain\n",
            "And they knew that Casey wouldn't let that ball go by again \n",
            "\n",
            "The sneer has fled from Casey's lip his teeth are clenched in hate\n",
            "He pounds with cruel violence his bat upon the plate\n",
            "And now the pitcher holds the ball and now he lets it go\n",
            "And now the air is shattered by the force of Casey's blow \n",
            "\n",
            "Oh somewhere in this favored land the sun is shining bright\n",
            "The band is playing somewhere and somewhere hearts are light\n",
            "And somewhere men are laughing and little children shout\n",
            "But there is no joy in Mudville--great Casey has struck out\n",
            "\n"
          ]
        }
      ]
    },
    {
      "cell_type": "code",
      "source": [
        "# Remove all the punctuation marks from the text.\n",
        "#There is no word that start and end with b in this example documents\n",
        "import re\n",
        "with open('/content/drive/MyDrive/example-text.txt', \"r\") as file1:\n",
        "   text = file1.read()\n",
        "matching_words = re.findall(r'\\b[bB]\\w*?b\\b', text)\n",
        "print(matching_words)"
      ],
      "metadata": {
        "colab": {
          "base_uri": "https://localhost:8080/"
        },
        "id": "win0IN_a9rhf",
        "outputId": "4fd50cec-1f62-4a59-f794-a85fcb84f103"
      },
      "execution_count": 43,
      "outputs": [
        {
          "output_type": "stream",
          "name": "stdout",
          "text": [
            "['brilliant', 'but', 'breast', 'but', 'bat', 'But', 'but', 'bat', 'But', 'bat', 'bat', 'But', 'But', 'bat', 'bright', 'But']\n"
          ]
        }
      ]
    },
    {
      "cell_type": "code",
      "source": [
        "#Extract list of 3 letter words ending with letter ‘e’.\n",
        "import re\n",
        "with open('/content/drive/MyDrive/example-text.txt', \"r\") as file1:\n",
        "   text = file1.read()\n",
        "pattern = r'\\b\\w{2}e\\b'\n",
        "matches = re.findall(pattern, text, flags=re.IGNORECASE)\n",
        "print(matches)"
      ],
      "metadata": {
        "colab": {
          "base_uri": "https://localhost:8080/"
        },
        "id": "3zowB1DW-SET",
        "outputId": "cbc9c943-00b0-4bad-a773-02a82ed4e103"
      },
      "execution_count": 45,
      "outputs": [
        {
          "output_type": "stream",
          "name": "stdout",
          "text": [
            "['The', 'the', 'The', 'one', 'the', 'the', 'the', 'The', 'the', 'the', 'the', 'the', 'the', 'the', 'the', 'the', 'the', 'the', 'the', 'the', 'the', 'the', 'the', 'the', 'the', 'the', 'the', 'the', 'eye', 'the', 'the', 'the', 'the', 'one', 'the', 'the', 'the', 'the', 'the', 'one', 'the', 'the', 'the', 'the', 'the', 'the', 'the', 'one', 'the', 'The', 'are', 'the', 'the', 'the', 'the', 'the', 'the', 'The', 'are', 'are']\n"
          ]
        }
      ]
    }
  ]
}